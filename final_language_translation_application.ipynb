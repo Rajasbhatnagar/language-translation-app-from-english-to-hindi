{
  "nbformat": 4,
  "nbformat_minor": 0,
  "metadata": {
    "colab": {
      "provenance": [],
      "authorship_tag": "ABX9TyPRy6hexXL80zucX9E63hb+",
      "include_colab_link": true
    },
    "kernelspec": {
      "name": "python3",
      "display_name": "Python 3"
    },
    "language_info": {
      "name": "python"
    }
  },
  "cells": [
    {
      "cell_type": "markdown",
      "metadata": {
        "id": "view-in-github",
        "colab_type": "text"
      },
      "source": [
        "<a href=\"https://colab.research.google.com/github/Rajasbhatnagar/language-translation-app-from-english-to-hindi/blob/main/final_language_translation_application.ipynb\" target=\"_parent\"><img src=\"https://colab.research.google.com/assets/colab-badge.svg\" alt=\"Open In Colab\"/></a>"
      ]
    },
    {
      "cell_type": "code",
      "execution_count": null,
      "metadata": {
        "id": "fhNdytIX0xPF"
      },
      "outputs": [],
      "source": [
        "from transformers import MBartForConditionalGeneration, MBart50TokenizerFast\n",
        "\n",
        "class SimpleTranslator:\n",
        "    def __init__(self, src_lang='en', tgt_lang='hi'):\n",
        "        model_name = 'facebook/mbart-large-50-many-to-many-mmt'\n",
        "        self.tokenizer = MBart50TokenizerFast.from_pretrained(model_name)\n",
        "        self.model = MBartForConditionalGeneration.from_pretrained(model_name)\n",
        "        self.src_lang = src_lang\n",
        "        self.tgt_lang = tgt_lang\n",
        "\n",
        "    def encode(self, text):\n",
        "        self.tokenizer.src_lang = self.src_lang\n",
        "        inputs = self.tokenizer(text, return_tensors=\"pt\", padding=True)\n",
        "        return inputs\n",
        "\n",
        "    def decode(self, encoded_text):\n",
        "        generated_tokens = self.model.generate(**encoded_text, forced_bos_token_id=self.tokenizer.lang_code_to_id[self.tgt_lang])\n",
        "        translated_text = self.tokenizer.batch_decode(generated_tokens, skip_special_tokens=True)[0]\n",
        "        return translated_text\n",
        "\n",
        "    def translate(self, text):\n",
        "        encoded_text = self.encode(text)\n",
        "        translated_text = self.decode(encoded_text)\n",
        "        return translated_text\n",
        "\n",
        "def main():\n",
        "    translator = SimpleTranslator(src_lang='en_XX', tgt_lang='hi_IN')\n",
        "    text_to_translate = input(\"Enter the text you want to translate from English to Hindi: \")\n",
        "    translated_text = translator.translate(text_to_translate)\n",
        "    print(f\"Translated text: {translated_text}\")\n",
        "\n",
        "if __name__ == \"__main__\":\n",
        "    main()"
      ]
    }
  ]
}